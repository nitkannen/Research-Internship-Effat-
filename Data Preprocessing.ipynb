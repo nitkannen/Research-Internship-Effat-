{
 "cells": [
  {
   "cell_type": "code",
   "execution_count": 269,
   "metadata": {},
   "outputs": [],
   "source": [
    "import numpy as np\n",
    "import pandas as pd\n",
    "import matplotlib.pyplot as plt\n",
    "import seaborn as sns\n",
    "%matplotlib inline\n",
    "from scipy import stats\n"
   ]
  },
  {
   "cell_type": "code",
   "execution_count": 270,
   "metadata": {},
   "outputs": [],
   "source": [
    "from keras.models import Model\n",
    "from keras.layers import LSTM, Dropout, Dense, Conv1D, ConvLSTM2D, Input\n",
    "from keras.optimizers import Adam, SGD,RMSprop\n",
    "from numpy import save\n",
    "from numpy import load\n",
    "import sklearn\n",
    "from sklearn import metrics\n",
    "from sklearn.preprocessing import MinMaxScaler\n",
    "from sklearn.model_selection import train_test_split"
   ]
  },
  {
   "cell_type": "code",
   "execution_count": 3,
   "metadata": {},
   "outputs": [],
   "source": [
    "import pymongo\n",
    "from pymongo import MongoClient\n",
    "import pprint\n",
    "\n",
    "import pandas as pd\n",
    "import numpy as np\n",
    "import subprocess\n",
    "\n",
    "#bson to json\n",
    "from bson.objectid import ObjectId\n",
    "from bson.json_util import loads, dumps\n",
    "\n",
    "import codecs\n",
    "import sys\n",
    "import json\n",
    "import dns\n",
    "import os"
   ]
  },
  {
   "cell_type": "markdown",
   "metadata": {},
   "source": [
    "# Read Data"
   ]
  },
  {
   "cell_type": "code",
   "execution_count": 331,
   "metadata": {},
   "outputs": [],
   "source": [
    "def read_data():  # returns a merged data file of features and target labels\n",
    "    #The features are input\n",
    "    \n",
    "    df = pd.read_csv('Torso_Motion.txt', delimiter = ' ',dtype = 'float32')\n",
    "    df.columns = ['Timestep','AccX','AccY','AccZ','Gyroscope_X','Gyroscope_Y','Gyroscope_Z','Mag_meter_X','Mag_meter_Y','Mag_meter_Z','Orientation_w','Orientation_x','Orientation_y','Orientation_z','Gravity_X','Gravity_Y','Gravity_Z','Linear_accX','Linear_accY','Linear_accZ','Pressure','Altitude','Temperature']\n",
    "    \n",
    "    d = pd.read_csv('Torso_Motion.txt', delimiter = ' ',dtype  = str,usecols=[0])\n",
    "    d.columns = ['Timestep']\n",
    "    df['Timestep'] = d['Timestep']\n",
    "    df['Timestep']= df['Timestep'].apply(lambda x : x.split('.')[0])\n",
    "    #return df\n",
    "    #df.head()\n",
    "    \n",
    "    # input target labels\n",
    "    \n",
    "    dfLabel = pd.read_csv('Label.txt', delimiter=' ', dtype = 'float64')\n",
    "    dfLabel.columns = ['Timestep','Coarse_label','Fine_label','Road','Traffic','Tunnel','Social','Food']\n",
    "    \n",
    "    dLabel = pd.read_csv('Label.txt', delimiter=' ', dtype = str, usecols=[0])\n",
    "    dLabel.columns = ['Timestep']\n",
    "    #dLabel.columns = ['Timestep','Coarse_label','Fine_label','Road','Traffic','Tunnel','Social','Food']\n",
    "    \n",
    "    dfLabel['Timestep'] = dLabel['Timestep']\n",
    "    #dfLabel.head()\n",
    "    #len(dfLabel)\n",
    "    \n",
    "    x = df\n",
    "    y = dfLabel[['Timestep','Coarse_label','Fine_label']]\n",
    "    \n",
    "    data = pd.merge(x, y, on = 'Timestep')\n",
    "    \n",
    "    return data.dropna()"
   ]
  },
  {
   "cell_type": "code",
   "execution_count": 7,
   "metadata": {},
   "outputs": [],
   "source": [
    "#data.head()"
   ]
  },
  {
   "cell_type": "markdown",
   "metadata": {},
   "source": [
    "# Data Preprocessing"
   ]
  },
  {
   "cell_type": "code",
   "execution_count": null,
   "metadata": {},
   "outputs": [],
   "source": []
  },
  {
   "cell_type": "code",
   "execution_count": 11,
   "metadata": {},
   "outputs": [],
   "source": [
    "def filter_data(data):\n",
    "    \n",
    "    data_filtered = data[(data['Coarse_label'] > 0  )].reset_index(drop = True) # removing claas labels zero\n",
    "    \n",
    "    #print(data_filtered['Coarse_label'].value_counts())\n",
    "    \n",
    "    return data_filtered\n",
    "    "
   ]
  },
  {
   "cell_type": "code",
   "execution_count": 10,
   "metadata": {},
   "outputs": [],
   "source": [
    "LEN_OF_SEQUENCE = 200\n",
    "OVERLAP = 50 # 25% overlap\n",
    "FEATURE_DIMENSION = 19"
   ]
  },
  {
   "cell_type": "code",
   "execution_count": 12,
   "metadata": {},
   "outputs": [],
   "source": [
    "def make_numpy_matrix(data) :\n",
    "    # This function converts the data into a matrix that could be fed inside lstm. Sequence len = 200\n",
    "    \n",
    "    X = []\n",
    "    y = []\n",
    "    for i in range(OVERLAP,len(data) - LEN_OF_SEQUENCE ,LEN_OF_SEQUENCE):\n",
    "            #print(i)\n",
    "        #label = 1.0\n",
    "\n",
    "        accX = data['AccX'].values[i:i + LEN_OF_SEQUENCE]\n",
    "        accX1 = data['AccX'].values[i - 50:i + LEN_OF_SEQUENCE- 50]\n",
    "        accY = data['AccY'].values[i:i + LEN_OF_SEQUENCE]\n",
    "        accY1 = data['AccY'].values[i - 50:i + LEN_OF_SEQUENCE- 50]\n",
    "        accZ = data['AccZ'].values[i:i + LEN_OF_SEQUENCE]\n",
    "        accZ1 = data['AccZ'].values[i - 50:i + LEN_OF_SEQUENCE- 50]\n",
    "\n",
    "        Gyro_X = data['Gyroscope_X'].values[i :i + LEN_OF_SEQUENCE]\n",
    "        Gyro_X1 = data['Gyroscope_X'].values[i - 50:i + LEN_OF_SEQUENCE- 50]\n",
    "        Gyro_Y = data['Gyroscope_Y'].values[i :i + LEN_OF_SEQUENCE]\n",
    "        Gyro_Y1 = data['Gyroscope_Y'].values[i - 50:i + LEN_OF_SEQUENCE- 50]\n",
    "        Gyro_Z = data['Gyroscope_Z'].values[i :i + LEN_OF_SEQUENCE]\n",
    "        Gyro_Z1 = data['Gyroscope_Z'].values[i - 50:i + LEN_OF_SEQUENCE- 50]\n",
    "\n",
    "        Mag_X = data['Mag_meter_X'].values[i :i + LEN_OF_SEQUENCE]\n",
    "        Mag_X1 = data['Mag_meter_X'].values[i - 50:i + LEN_OF_SEQUENCE- 50]\n",
    "        Mag_Y = data['Mag_meter_Y'].values[i :i + LEN_OF_SEQUENCE]\n",
    "        Mag_Y1 = data['Mag_meter_Y'].values[i - 50:i + LEN_OF_SEQUENCE- 50]\n",
    "        Mag_Z = data['Mag_meter_Z'].values[i :i + LEN_OF_SEQUENCE]\n",
    "        Mag_Z1 = data['Mag_meter_Z'].values[i - 50:i + LEN_OF_SEQUENCE- 50]\n",
    "\n",
    "        Linear_X = data['Linear_accX'].values[i :i + LEN_OF_SEQUENCE]\n",
    "        Linear_X1 = data['Linear_accX'].values[i - 50:i + LEN_OF_SEQUENCE- 50]\n",
    "        Linear_Y = data['Linear_accY'].values[i :i + LEN_OF_SEQUENCE]\n",
    "        Linear_Y1 = data['Linear_accY'].values[i - 50:i + LEN_OF_SEQUENCE- 50]\n",
    "        Linear_Z = data['Linear_accZ'].values[i :i + LEN_OF_SEQUENCE]\n",
    "        Linear_Z1 = data['Linear_accZ'].values[i - 50:i + LEN_OF_SEQUENCE- 50]\n",
    "\n",
    "        Gravity_X = data['Gravity_X'].values[i :i + LEN_OF_SEQUENCE]\n",
    "        Gravity_X1 = data['Gravity_X'].values[i - 50:i + LEN_OF_SEQUENCE- 50]\n",
    "        Gravity_Y = data['Gravity_Y'].values[i :i + LEN_OF_SEQUENCE]\n",
    "        Gravity_Y1 = data['Gravity_Y'].values[i - 50:i + LEN_OF_SEQUENCE- 50]\n",
    "        Gravity_Z = data['Gravity_Z'].values[i :i + LEN_OF_SEQUENCE]\n",
    "        Gravity_Z1 = data['Gravity_Z'].values[i - 50:i + LEN_OF_SEQUENCE- 50]\n",
    "\n",
    "        Orient_X = data['Orientation_x'].values[i :i + LEN_OF_SEQUENCE]\n",
    "        Orient_X1 = data['Orientation_x'].values[i - 50:i + LEN_OF_SEQUENCE- 50]\n",
    "        Orient_W = data['Orientation_w'].values[i :i + LEN_OF_SEQUENCE]\n",
    "        Orient_W1 = data['Orientation_w'].values[i - 50:i + LEN_OF_SEQUENCE- 50]\n",
    "        Orient_Y = data['Orientation_y'].values[i :i + LEN_OF_SEQUENCE]\n",
    "        Orient_Y1 = data['Orientation_y'].values[i - 50:i + LEN_OF_SEQUENCE- 50]\n",
    "        Orient_Z = data['Orientation_z'].values[i :i + LEN_OF_SEQUENCE]\n",
    "        Orient_Z1 = data['Orientation_z'].values[i - 50:i + LEN_OF_SEQUENCE- 50]\n",
    "\n",
    "        X.append([accX,accY,accZ,Gyro_X,Gyro_Y,Gyro_Z,Mag_X,Mag_Y, Mag_Z,\n",
    "                  Linear_X, Linear_Y, Linear_Z,Gravity_X, Gravity_Y, Gravity_Z\n",
    "                 ,Orient_X, Orient_Y, Orient_Z,Orient_W])\n",
    "\n",
    "        X.append([accX1,accY1,accZ1,Gyro_X1,Gyro_Y1,Gyro_Z1,Mag_X1,Mag_Y1, Mag_Z1,\n",
    "                   Linear_X1, Linear_Y1, Linear_Z1,Gravity_X1, Gravity_Y1, Gravity_Z1\n",
    "                 ,Orient_X1, Orient_Y1, Orient_Z1,Orient_W1])\n",
    "\n",
    "        #Here we are taking the mode of labels in the time sequence instead of the last recorder activity\n",
    "\n",
    "        labels = stats.mode(data['Coarse_label'][i :i + LEN_OF_SEQUENCE])\n",
    "        y.append(labels[0][0])\n",
    "\n",
    "        labels = stats.mode(data['Coarse_label'][i - 50:i + LEN_OF_SEQUENCE- 50])\n",
    "        y.append(labels[0][0])\n",
    "\n",
    "        #y.append(label)\n",
    "        #y.append(label)\n",
    "    X = np.asarray(X,dtype = 'float32')\n",
    "    X  = X.reshape((-1,200,19))\n",
    "\n",
    "    y = np.asarray(y, dtype = 'float32')\n",
    "    \n",
    "    return X,y\n",
    "\n"
   ]
  },
  {
   "cell_type": "code",
   "execution_count": null,
   "metadata": {},
   "outputs": [],
   "source": []
  },
  {
   "cell_type": "code",
   "execution_count": 347,
   "metadata": {},
   "outputs": [],
   "source": [
    "data = read_data()\n",
    "filtered_data = filter_data(data)\n",
    "X,y = make_numpy_matrix(filtered_data)"
   ]
  },
  {
   "cell_type": "code",
   "execution_count": 326,
   "metadata": {},
   "outputs": [
    {
     "data": {
      "text/plain": [
       "(18254,)"
      ]
     },
     "execution_count": 326,
     "metadata": {},
     "output_type": "execute_result"
    }
   ],
   "source": [
    "y.shape"
   ]
  },
  {
   "cell_type": "code",
   "execution_count": 327,
   "metadata": {},
   "outputs": [],
   "source": [
    "df = pd.DataFrame(y, columns = ['label'])"
   ]
  },
  {
   "cell_type": "code",
   "execution_count": 291,
   "metadata": {},
   "outputs": [
    {
     "data": {
      "text/plain": [
       "6.0    9130\n",
       "1.0    4246\n",
       "4.0    3736\n",
       "2.0    3617\n",
       "3.0     105\n",
       "Name: label, dtype: int64"
      ]
     },
     "execution_count": 291,
     "metadata": {},
     "output_type": "execute_result"
    }
   ],
   "source": [
    "df['label'].value_counts() ## Check distribution of data"
   ]
  },
  {
   "cell_type": "markdown",
   "metadata": {},
   "source": [
    "## Save the processed data into .npy file"
   ]
  },
  {
   "cell_type": "code",
   "execution_count": 372,
   "metadata": {},
   "outputs": [
    {
     "name": "stdout",
     "output_type": "stream",
     "text": [
      "C:\\Users\\Nithish\\Desktop\\User 1 Bag\n"
     ]
    }
   ],
   "source": [
    "cd C:\\Users\\Nithish\\Desktop\\User 1 Bag"
   ]
  },
  {
   "cell_type": "code",
   "execution_count": 349,
   "metadata": {},
   "outputs": [],
   "source": [
    "save('1_Torso_27_6_X', X)"
   ]
  },
  {
   "cell_type": "code",
   "execution_count": 350,
   "metadata": {},
   "outputs": [],
   "source": [
    "save('1_Torso_27_6_y',y)"
   ]
  },
  {
   "cell_type": "code",
   "execution_count": 373,
   "metadata": {},
   "outputs": [],
   "source": [
    "dataX = load('1_Bag_27_6_X.npy')\n",
    "datay = load('1_Bag_27_6_y.npy')\n",
    "X = load('1_Bag_26_6_X.npy')\n",
    "y = load('1_Bag_26_6_y.npy')\n",
    "dataX, datay = concatenate(dataX, datay,X,y )"
   ]
  },
  {
   "cell_type": "code",
   "execution_count": 374,
   "metadata": {},
   "outputs": [],
   "source": [
    "X = load('1_Bag_22_6_X.npy')\n",
    "y = load('1_Bag_22_6_y.npy')"
   ]
  },
  {
   "cell_type": "code",
   "execution_count": 375,
   "metadata": {},
   "outputs": [],
   "source": [
    "dataX, datay = concatenate(dataX, datay,X,y )"
   ]
  },
  {
   "cell_type": "code",
   "execution_count": 380,
   "metadata": {},
   "outputs": [
    {
     "data": {
      "text/plain": [
       "(60882, 200, 19)"
      ]
     },
     "execution_count": 380,
     "metadata": {},
     "output_type": "execute_result"
    }
   ],
   "source": [
    "dataX.shape"
   ]
  },
  {
   "cell_type": "code",
   "execution_count": 379,
   "metadata": {},
   "outputs": [
    {
     "data": {
      "text/plain": [
       "(60882,)"
      ]
     },
     "execution_count": 379,
     "metadata": {},
     "output_type": "execute_result"
    }
   ],
   "source": [
    "datay.shape"
   ]
  },
  {
   "cell_type": "code",
   "execution_count": 381,
   "metadata": {},
   "outputs": [],
   "source": [
    "save('Bag_User1_fullX', dataX)\n",
    "save('Bag_User1_fully', datay)"
   ]
  },
  {
   "cell_type": "code",
   "execution_count": 208,
   "metadata": {},
   "outputs": [],
   "source": [
    "def concatenate(X,y, new_dataX, new_datay):\n",
    "    \n",
    "    \n",
    "    dataX = np.concatenate((X, new_dataX), axis = 0)\n",
    "    \n",
    "\n",
    "  \n",
    "    datay = np.concatenate((y, new_datay), axis = 0)\n",
    "  #print(data.shape)\n",
    "\n",
    "    return dataX, datay"
   ]
  },
  {
   "cell_type": "code",
   "execution_count": 33,
   "metadata": {},
   "outputs": [
    {
     "data": {
      "text/html": [
       "<div>\n",
       "<style scoped>\n",
       "    .dataframe tbody tr th:only-of-type {\n",
       "        vertical-align: middle;\n",
       "    }\n",
       "\n",
       "    .dataframe tbody tr th {\n",
       "        vertical-align: top;\n",
       "    }\n",
       "\n",
       "    .dataframe thead th {\n",
       "        text-align: right;\n",
       "    }\n",
       "</style>\n",
       "<table border=\"1\" class=\"dataframe\">\n",
       "  <thead>\n",
       "    <tr style=\"text-align: right;\">\n",
       "      <th></th>\n",
       "      <th>Timestep</th>\n",
       "      <th>AccX</th>\n",
       "      <th>AccY</th>\n",
       "      <th>AccZ</th>\n",
       "      <th>Gyroscope_X</th>\n",
       "      <th>Gyroscope_Y</th>\n",
       "      <th>Gyroscope_Z</th>\n",
       "      <th>Mag_meter_X</th>\n",
       "      <th>Mag_meter_Y</th>\n",
       "      <th>Mag_meter_Z</th>\n",
       "      <th>...</th>\n",
       "      <th>Gravity_Y</th>\n",
       "      <th>Gravity_Z</th>\n",
       "      <th>Linear_accX</th>\n",
       "      <th>Linear_accY</th>\n",
       "      <th>Linear_accZ</th>\n",
       "      <th>Pressure</th>\n",
       "      <th>Altitude</th>\n",
       "      <th>Temperature</th>\n",
       "      <th>Coarse_label</th>\n",
       "      <th>Fine_label</th>\n",
       "    </tr>\n",
       "  </thead>\n",
       "  <tbody>\n",
       "    <tr>\n",
       "      <td>0</td>\n",
       "      <td>1498470339500</td>\n",
       "      <td>1.826706</td>\n",
       "      <td>-8.716733</td>\n",
       "      <td>1.270882</td>\n",
       "      <td>0.126351</td>\n",
       "      <td>-1.043744</td>\n",
       "      <td>-0.467572</td>\n",
       "      <td>0.161344</td>\n",
       "      <td>36.838909</td>\n",
       "      <td>7.990065</td>\n",
       "      <td>...</td>\n",
       "      <td>-8.949545</td>\n",
       "      <td>3.474233</td>\n",
       "      <td>-4.070962</td>\n",
       "      <td>-3.268496</td>\n",
       "      <td>-6.722267</td>\n",
       "      <td>1007.998291</td>\n",
       "      <td>0.0</td>\n",
       "      <td>0.0</td>\n",
       "      <td>2.0</td>\n",
       "      <td>5.0</td>\n",
       "    </tr>\n",
       "    <tr>\n",
       "      <td>1</td>\n",
       "      <td>1498470339510</td>\n",
       "      <td>1.664390</td>\n",
       "      <td>-9.048232</td>\n",
       "      <td>0.479703</td>\n",
       "      <td>-0.484148</td>\n",
       "      <td>-1.850490</td>\n",
       "      <td>-0.500799</td>\n",
       "      <td>0.714364</td>\n",
       "      <td>37.355968</td>\n",
       "      <td>7.321272</td>\n",
       "      <td>...</td>\n",
       "      <td>-9.001525</td>\n",
       "      <td>3.338862</td>\n",
       "      <td>-4.479416</td>\n",
       "      <td>-3.886921</td>\n",
       "      <td>-6.419862</td>\n",
       "      <td>1007.993713</td>\n",
       "      <td>0.0</td>\n",
       "      <td>0.0</td>\n",
       "      <td>2.0</td>\n",
       "      <td>5.0</td>\n",
       "    </tr>\n",
       "    <tr>\n",
       "      <td>2</td>\n",
       "      <td>1498470339520</td>\n",
       "      <td>0.616486</td>\n",
       "      <td>-9.157213</td>\n",
       "      <td>0.741797</td>\n",
       "      <td>-0.926514</td>\n",
       "      <td>-2.151571</td>\n",
       "      <td>-0.480267</td>\n",
       "      <td>1.034413</td>\n",
       "      <td>37.841473</td>\n",
       "      <td>6.840587</td>\n",
       "      <td>...</td>\n",
       "      <td>-9.023118</td>\n",
       "      <td>3.219236</td>\n",
       "      <td>-4.695837</td>\n",
       "      <td>-4.195946</td>\n",
       "      <td>-6.186209</td>\n",
       "      <td>1007.989136</td>\n",
       "      <td>0.0</td>\n",
       "      <td>0.0</td>\n",
       "      <td>2.0</td>\n",
       "      <td>5.0</td>\n",
       "    </tr>\n",
       "    <tr>\n",
       "      <td>3</td>\n",
       "      <td>1498470339530</td>\n",
       "      <td>0.327102</td>\n",
       "      <td>-9.599220</td>\n",
       "      <td>0.925615</td>\n",
       "      <td>-1.220342</td>\n",
       "      <td>-1.960565</td>\n",
       "      <td>-0.387256</td>\n",
       "      <td>1.355843</td>\n",
       "      <td>38.153896</td>\n",
       "      <td>6.557631</td>\n",
       "      <td>...</td>\n",
       "      <td>-9.108921</td>\n",
       "      <td>2.957080</td>\n",
       "      <td>-5.076182</td>\n",
       "      <td>-4.540824</td>\n",
       "      <td>-6.315186</td>\n",
       "      <td>1007.984558</td>\n",
       "      <td>0.0</td>\n",
       "      <td>0.0</td>\n",
       "      <td>2.0</td>\n",
       "      <td>5.0</td>\n",
       "    </tr>\n",
       "    <tr>\n",
       "      <td>4</td>\n",
       "      <td>1498470339540</td>\n",
       "      <td>0.235793</td>\n",
       "      <td>-10.012119</td>\n",
       "      <td>0.419633</td>\n",
       "      <td>-1.136532</td>\n",
       "      <td>-1.267445</td>\n",
       "      <td>-0.193769</td>\n",
       "      <td>1.656198</td>\n",
       "      <td>38.445248</td>\n",
       "      <td>6.007956</td>\n",
       "      <td>...</td>\n",
       "      <td>-9.147361</td>\n",
       "      <td>2.782432</td>\n",
       "      <td>-5.416662</td>\n",
       "      <td>-4.145084</td>\n",
       "      <td>-7.195375</td>\n",
       "      <td>1007.979919</td>\n",
       "      <td>0.0</td>\n",
       "      <td>0.0</td>\n",
       "      <td>2.0</td>\n",
       "      <td>5.0</td>\n",
       "    </tr>\n",
       "    <tr>\n",
       "      <td>...</td>\n",
       "      <td>...</td>\n",
       "      <td>...</td>\n",
       "      <td>...</td>\n",
       "      <td>...</td>\n",
       "      <td>...</td>\n",
       "      <td>...</td>\n",
       "      <td>...</td>\n",
       "      <td>...</td>\n",
       "      <td>...</td>\n",
       "      <td>...</td>\n",
       "      <td>...</td>\n",
       "      <td>...</td>\n",
       "      <td>...</td>\n",
       "      <td>...</td>\n",
       "      <td>...</td>\n",
       "      <td>...</td>\n",
       "      <td>...</td>\n",
       "      <td>...</td>\n",
       "      <td>...</td>\n",
       "      <td>...</td>\n",
       "      <td>...</td>\n",
       "    </tr>\n",
       "    <tr>\n",
       "      <td>2083501</td>\n",
       "      <td>1498508664860</td>\n",
       "      <td>-0.750136</td>\n",
       "      <td>-8.336208</td>\n",
       "      <td>-14.167012</td>\n",
       "      <td>-0.863798</td>\n",
       "      <td>-0.316319</td>\n",
       "      <td>-0.302846</td>\n",
       "      <td>2.984020</td>\n",
       "      <td>-4.382990</td>\n",
       "      <td>45.715466</td>\n",
       "      <td>...</td>\n",
       "      <td>-3.503667</td>\n",
       "      <td>-9.021282</td>\n",
       "      <td>0.079796</td>\n",
       "      <td>-0.587120</td>\n",
       "      <td>0.029067</td>\n",
       "      <td>1005.144409</td>\n",
       "      <td>0.0</td>\n",
       "      <td>0.0</td>\n",
       "      <td>4.0</td>\n",
       "      <td>8.0</td>\n",
       "    </tr>\n",
       "    <tr>\n",
       "      <td>2083502</td>\n",
       "      <td>1498508664870</td>\n",
       "      <td>0.064377</td>\n",
       "      <td>-6.847972</td>\n",
       "      <td>-12.598029</td>\n",
       "      <td>-0.989914</td>\n",
       "      <td>-0.379662</td>\n",
       "      <td>-0.365411</td>\n",
       "      <td>3.000000</td>\n",
       "      <td>-4.206099</td>\n",
       "      <td>45.574898</td>\n",
       "      <td>...</td>\n",
       "      <td>-3.429348</td>\n",
       "      <td>-9.060199</td>\n",
       "      <td>-0.136523</td>\n",
       "      <td>-1.144958</td>\n",
       "      <td>-1.680338</td>\n",
       "      <td>1005.133667</td>\n",
       "      <td>0.0</td>\n",
       "      <td>0.0</td>\n",
       "      <td>4.0</td>\n",
       "      <td>8.0</td>\n",
       "    </tr>\n",
       "    <tr>\n",
       "      <td>2083503</td>\n",
       "      <td>1498508664880</td>\n",
       "      <td>1.017720</td>\n",
       "      <td>-5.981620</td>\n",
       "      <td>-10.889175</td>\n",
       "      <td>-1.011755</td>\n",
       "      <td>-0.333938</td>\n",
       "      <td>-0.250309</td>\n",
       "      <td>2.647491</td>\n",
       "      <td>-4.187500</td>\n",
       "      <td>45.680004</td>\n",
       "      <td>...</td>\n",
       "      <td>-3.335444</td>\n",
       "      <td>-9.097939</td>\n",
       "      <td>-1.006741</td>\n",
       "      <td>-1.162032</td>\n",
       "      <td>-1.081365</td>\n",
       "      <td>1005.122986</td>\n",
       "      <td>0.0</td>\n",
       "      <td>0.0</td>\n",
       "      <td>4.0</td>\n",
       "      <td>8.0</td>\n",
       "    </tr>\n",
       "    <tr>\n",
       "      <td>2083504</td>\n",
       "      <td>1498508664890</td>\n",
       "      <td>3.302852</td>\n",
       "      <td>-6.285632</td>\n",
       "      <td>-9.333902</td>\n",
       "      <td>-0.994788</td>\n",
       "      <td>-0.246604</td>\n",
       "      <td>-0.180778</td>\n",
       "      <td>2.345878</td>\n",
       "      <td>-3.908378</td>\n",
       "      <td>45.966621</td>\n",
       "      <td>...</td>\n",
       "      <td>-3.259725</td>\n",
       "      <td>-9.125040</td>\n",
       "      <td>-0.058206</td>\n",
       "      <td>-1.405008</td>\n",
       "      <td>-0.646992</td>\n",
       "      <td>1005.112244</td>\n",
       "      <td>0.0</td>\n",
       "      <td>0.0</td>\n",
       "      <td>4.0</td>\n",
       "      <td>8.0</td>\n",
       "    </tr>\n",
       "    <tr>\n",
       "      <td>2083505</td>\n",
       "      <td>1498508664900</td>\n",
       "      <td>3.251902</td>\n",
       "      <td>-6.532259</td>\n",
       "      <td>-11.834304</td>\n",
       "      <td>-1.030819</td>\n",
       "      <td>0.017285</td>\n",
       "      <td>-0.328453</td>\n",
       "      <td>1.725339</td>\n",
       "      <td>-3.875000</td>\n",
       "      <td>45.706421</td>\n",
       "      <td>...</td>\n",
       "      <td>-3.164736</td>\n",
       "      <td>-9.161368</td>\n",
       "      <td>-0.118900</td>\n",
       "      <td>-1.054463</td>\n",
       "      <td>-1.789608</td>\n",
       "      <td>1005.101562</td>\n",
       "      <td>0.0</td>\n",
       "      <td>0.0</td>\n",
       "      <td>4.0</td>\n",
       "      <td>8.0</td>\n",
       "    </tr>\n",
       "  </tbody>\n",
       "</table>\n",
       "<p>2083506 rows × 25 columns</p>\n",
       "</div>"
      ],
      "text/plain": [
       "              Timestep      AccX       AccY       AccZ  Gyroscope_X  \\\n",
       "0        1498470339500  1.826706  -8.716733   1.270882     0.126351   \n",
       "1        1498470339510  1.664390  -9.048232   0.479703    -0.484148   \n",
       "2        1498470339520  0.616486  -9.157213   0.741797    -0.926514   \n",
       "3        1498470339530  0.327102  -9.599220   0.925615    -1.220342   \n",
       "4        1498470339540  0.235793 -10.012119   0.419633    -1.136532   \n",
       "...                ...       ...        ...        ...          ...   \n",
       "2083501  1498508664860 -0.750136  -8.336208 -14.167012    -0.863798   \n",
       "2083502  1498508664870  0.064377  -6.847972 -12.598029    -0.989914   \n",
       "2083503  1498508664880  1.017720  -5.981620 -10.889175    -1.011755   \n",
       "2083504  1498508664890  3.302852  -6.285632  -9.333902    -0.994788   \n",
       "2083505  1498508664900  3.251902  -6.532259 -11.834304    -1.030819   \n",
       "\n",
       "         Gyroscope_Y  Gyroscope_Z  Mag_meter_X  Mag_meter_Y  Mag_meter_Z  ...  \\\n",
       "0          -1.043744    -0.467572     0.161344    36.838909     7.990065  ...   \n",
       "1          -1.850490    -0.500799     0.714364    37.355968     7.321272  ...   \n",
       "2          -2.151571    -0.480267     1.034413    37.841473     6.840587  ...   \n",
       "3          -1.960565    -0.387256     1.355843    38.153896     6.557631  ...   \n",
       "4          -1.267445    -0.193769     1.656198    38.445248     6.007956  ...   \n",
       "...              ...          ...          ...          ...          ...  ...   \n",
       "2083501    -0.316319    -0.302846     2.984020    -4.382990    45.715466  ...   \n",
       "2083502    -0.379662    -0.365411     3.000000    -4.206099    45.574898  ...   \n",
       "2083503    -0.333938    -0.250309     2.647491    -4.187500    45.680004  ...   \n",
       "2083504    -0.246604    -0.180778     2.345878    -3.908378    45.966621  ...   \n",
       "2083505     0.017285    -0.328453     1.725339    -3.875000    45.706421  ...   \n",
       "\n",
       "         Gravity_Y  Gravity_Z  Linear_accX  Linear_accY  Linear_accZ  \\\n",
       "0        -8.949545   3.474233    -4.070962    -3.268496    -6.722267   \n",
       "1        -9.001525   3.338862    -4.479416    -3.886921    -6.419862   \n",
       "2        -9.023118   3.219236    -4.695837    -4.195946    -6.186209   \n",
       "3        -9.108921   2.957080    -5.076182    -4.540824    -6.315186   \n",
       "4        -9.147361   2.782432    -5.416662    -4.145084    -7.195375   \n",
       "...            ...        ...          ...          ...          ...   \n",
       "2083501  -3.503667  -9.021282     0.079796    -0.587120     0.029067   \n",
       "2083502  -3.429348  -9.060199    -0.136523    -1.144958    -1.680338   \n",
       "2083503  -3.335444  -9.097939    -1.006741    -1.162032    -1.081365   \n",
       "2083504  -3.259725  -9.125040    -0.058206    -1.405008    -0.646992   \n",
       "2083505  -3.164736  -9.161368    -0.118900    -1.054463    -1.789608   \n",
       "\n",
       "            Pressure  Altitude  Temperature  Coarse_label  Fine_label  \n",
       "0        1007.998291       0.0          0.0           2.0         5.0  \n",
       "1        1007.993713       0.0          0.0           2.0         5.0  \n",
       "2        1007.989136       0.0          0.0           2.0         5.0  \n",
       "3        1007.984558       0.0          0.0           2.0         5.0  \n",
       "4        1007.979919       0.0          0.0           2.0         5.0  \n",
       "...              ...       ...          ...           ...         ...  \n",
       "2083501  1005.144409       0.0          0.0           4.0         8.0  \n",
       "2083502  1005.133667       0.0          0.0           4.0         8.0  \n",
       "2083503  1005.122986       0.0          0.0           4.0         8.0  \n",
       "2083504  1005.112244       0.0          0.0           4.0         8.0  \n",
       "2083505  1005.101562       0.0          0.0           4.0         8.0  \n",
       "\n",
       "[2083506 rows x 25 columns]"
      ]
     },
     "execution_count": 33,
     "metadata": {},
     "output_type": "execute_result"
    }
   ],
   "source": [
    "filtered_data"
   ]
  },
  {
   "cell_type": "code",
   "execution_count": 115,
   "metadata": {},
   "outputs": [
    {
     "name": "stdout",
     "output_type": "stream",
     "text": [
      "C:\\Users\\Nithish\\Desktop\\Research Internship\n"
     ]
    }
   ],
   "source": [
    "cd C:\\\\Users\\\\Nithish\\\\Desktop\\\\Research Internship"
   ]
  },
  {
   "cell_type": "code",
   "execution_count": 117,
   "metadata": {},
   "outputs": [],
   "source": [
    "X = load('preview_26_X.npy')"
   ]
  },
  {
   "cell_type": "code",
   "execution_count": 120,
   "metadata": {},
   "outputs": [],
   "source": [
    "y = load('preview_26_y.npy')"
   ]
  },
  {
   "cell_type": "code",
   "execution_count": 121,
   "metadata": {},
   "outputs": [
    {
     "data": {
      "text/plain": [
       "(20834, 200, 19)"
      ]
     },
     "execution_count": 121,
     "metadata": {},
     "output_type": "execute_result"
    }
   ],
   "source": [
    "X.shape"
   ]
  },
  {
   "cell_type": "code",
   "execution_count": 125,
   "metadata": {},
   "outputs": [],
   "source": [
    "X_2d = X.reshape((20834,-1))"
   ]
  },
  {
   "cell_type": "code",
   "execution_count": 139,
   "metadata": {},
   "outputs": [],
   "source": [
    "X_2d = X_2d.reshape((20834,200,19))"
   ]
  },
  {
   "cell_type": "code",
   "execution_count": 141,
   "metadata": {},
   "outputs": [
    {
     "data": {
      "text/plain": [
       "(20834, 200, 19)"
      ]
     },
     "execution_count": 141,
     "metadata": {},
     "output_type": "execute_result"
    }
   ],
   "source": [
    "X_2d.shape"
   ]
  },
  {
   "cell_type": "code",
   "execution_count": 294,
   "metadata": {},
   "outputs": [],
   "source": [
    "def feature_scaling(X):\n",
    "    # Converting the 3d matrix to 2d for feature scaling\n",
    "    X_2d = X.reshape((-1,19))\n",
    "    \n",
    "    scaler = MinMaxScaler(feature_range=(-1, 1))\n",
    "    \n",
    "    X_scaled = scaler.fit_transform(X_2d)\n",
    "    \n",
    "    # Rescaling the 2d matrix to 3d\n",
    "    X_scaled_3d = X_scaled.reshape((-1,200,19))\n",
    "    \n",
    "    print(X_scaled_3d.shape)\n",
    "    \n",
    "    return(X_scaled_3d)"
   ]
  },
  {
   "cell_type": "code",
   "execution_count": null,
   "metadata": {},
   "outputs": [],
   "source": [
    "X_train, X_test, y_train, y_test = train_test_split(X, y, test_size=0.1, random_state=42)"
   ]
  },
  {
   "cell_type": "code",
   "execution_count": null,
   "metadata": {},
   "outputs": [],
   "source": [
    "def one_hot_target(y):\n",
    "    \n",
    "    y_one_hot = pd.get_dummies(y)\n",
    "    \n",
    "    return y_one_hot.values"
   ]
  },
  {
   "cell_type": "code",
   "execution_count": 233,
   "metadata": {},
   "outputs": [],
   "source": [
    "#np.random.seed(32)\n",
    "def shuffle_along_axis(a, axis): # This is for shuffling the dataset\n",
    "    \n",
    "    np.random.seed(32)\n",
    "    \n",
    "    idx = np.random.rand(*a.shape,).argsort(axis=axis)\n",
    "    \n",
    "    return np.take_along_axis(a,idx,axis=axis)\n"
   ]
  },
  {
   "cell_type": "code",
   "execution_count": 300,
   "metadata": {},
   "outputs": [
    {
     "data": {
      "text/plain": [
       "array([[-1. , -0.5],\n",
       "       [ 1. ,  1. ],\n",
       "       [ 0.7, -1. ]])"
      ]
     },
     "execution_count": 300,
     "metadata": {},
     "output_type": "execute_result"
    }
   ],
   "source": [
    "x = np.array([[-10,0.2],[10,0.5],[7,0.1]])\n",
    "#feature_scaling(x)\n",
    "scaler  = MinMaxScaler(feature_range=(-1,1))\n",
    "scaler.fit_transform(x)"
   ]
  },
  {
   "cell_type": "code",
   "execution_count": null,
   "metadata": {},
   "outputs": [],
   "source": []
  },
  {
   "cell_type": "code",
   "execution_count": 122,
   "metadata": {},
   "outputs": [
    {
     "data": {
      "text/plain": [
       "(20834,)"
      ]
     },
     "execution_count": 122,
     "metadata": {},
     "output_type": "execute_result"
    }
   ],
   "source": [
    "y.shape"
   ]
  },
  {
   "cell_type": "code",
   "execution_count": 113,
   "metadata": {},
   "outputs": [],
   "source": [
    "from sklearn.preprocessing import MinMaxScaler"
   ]
  },
  {
   "cell_type": "code",
   "execution_count": 114,
   "metadata": {},
   "outputs": [],
   "source": [
    "scaler = MinMaxScaler(feature_range=(-1, 1))"
   ]
  },
  {
   "cell_type": "code",
   "execution_count": 127,
   "metadata": {},
   "outputs": [],
   "source": [
    "X_scaled = scaler.fit_transform(X_2d)"
   ]
  },
  {
   "cell_type": "code",
   "execution_count": 129,
   "metadata": {},
   "outputs": [
    {
     "data": {
      "text/plain": [
       "(20834, 3800)"
      ]
     },
     "execution_count": 129,
     "metadata": {},
     "output_type": "execute_result"
    }
   ],
   "source": [
    "X_scaled.shape"
   ]
  },
  {
   "cell_type": "code",
   "execution_count": 130,
   "metadata": {},
   "outputs": [],
   "source": [
    "X_scaled_3d = X_scaled.reshape((20834,200,19))"
   ]
  },
  {
   "cell_type": "code",
   "execution_count": 131,
   "metadata": {},
   "outputs": [
    {
     "data": {
      "text/plain": [
       "(20834, 200, 19)"
      ]
     },
     "execution_count": 131,
     "metadata": {},
     "output_type": "execute_result"
    }
   ],
   "source": [
    "X_scaled_3d.shape"
   ]
  },
  {
   "cell_type": "code",
   "execution_count": 142,
   "metadata": {},
   "outputs": [],
   "source": [
    "y_one_hot = pd.get_dummies(y)"
   ]
  },
  {
   "cell_type": "code",
   "execution_count": 148,
   "metadata": {},
   "outputs": [
    {
     "data": {
      "text/html": [
       "<div>\n",
       "<style scoped>\n",
       "    .dataframe tbody tr th:only-of-type {\n",
       "        vertical-align: middle;\n",
       "    }\n",
       "\n",
       "    .dataframe tbody tr th {\n",
       "        vertical-align: top;\n",
       "    }\n",
       "\n",
       "    .dataframe thead th {\n",
       "        text-align: right;\n",
       "    }\n",
       "</style>\n",
       "<table border=\"1\" class=\"dataframe\">\n",
       "  <thead>\n",
       "    <tr style=\"text-align: right;\">\n",
       "      <th></th>\n",
       "      <th>1.0</th>\n",
       "      <th>2.0</th>\n",
       "      <th>3.0</th>\n",
       "      <th>4.0</th>\n",
       "      <th>6.0</th>\n",
       "    </tr>\n",
       "  </thead>\n",
       "  <tbody>\n",
       "    <tr>\n",
       "      <td>0</td>\n",
       "      <td>0</td>\n",
       "      <td>1</td>\n",
       "      <td>0</td>\n",
       "      <td>0</td>\n",
       "      <td>0</td>\n",
       "    </tr>\n",
       "    <tr>\n",
       "      <td>1</td>\n",
       "      <td>0</td>\n",
       "      <td>1</td>\n",
       "      <td>0</td>\n",
       "      <td>0</td>\n",
       "      <td>0</td>\n",
       "    </tr>\n",
       "    <tr>\n",
       "      <td>2</td>\n",
       "      <td>0</td>\n",
       "      <td>1</td>\n",
       "      <td>0</td>\n",
       "      <td>0</td>\n",
       "      <td>0</td>\n",
       "    </tr>\n",
       "    <tr>\n",
       "      <td>3</td>\n",
       "      <td>0</td>\n",
       "      <td>1</td>\n",
       "      <td>0</td>\n",
       "      <td>0</td>\n",
       "      <td>0</td>\n",
       "    </tr>\n",
       "    <tr>\n",
       "      <td>4</td>\n",
       "      <td>0</td>\n",
       "      <td>1</td>\n",
       "      <td>0</td>\n",
       "      <td>0</td>\n",
       "      <td>0</td>\n",
       "    </tr>\n",
       "    <tr>\n",
       "      <td>...</td>\n",
       "      <td>...</td>\n",
       "      <td>...</td>\n",
       "      <td>...</td>\n",
       "      <td>...</td>\n",
       "      <td>...</td>\n",
       "    </tr>\n",
       "    <tr>\n",
       "      <td>20829</td>\n",
       "      <td>0</td>\n",
       "      <td>0</td>\n",
       "      <td>0</td>\n",
       "      <td>1</td>\n",
       "      <td>0</td>\n",
       "    </tr>\n",
       "    <tr>\n",
       "      <td>20830</td>\n",
       "      <td>0</td>\n",
       "      <td>0</td>\n",
       "      <td>0</td>\n",
       "      <td>1</td>\n",
       "      <td>0</td>\n",
       "    </tr>\n",
       "    <tr>\n",
       "      <td>20831</td>\n",
       "      <td>0</td>\n",
       "      <td>0</td>\n",
       "      <td>0</td>\n",
       "      <td>1</td>\n",
       "      <td>0</td>\n",
       "    </tr>\n",
       "    <tr>\n",
       "      <td>20832</td>\n",
       "      <td>0</td>\n",
       "      <td>0</td>\n",
       "      <td>0</td>\n",
       "      <td>1</td>\n",
       "      <td>0</td>\n",
       "    </tr>\n",
       "    <tr>\n",
       "      <td>20833</td>\n",
       "      <td>0</td>\n",
       "      <td>0</td>\n",
       "      <td>0</td>\n",
       "      <td>1</td>\n",
       "      <td>0</td>\n",
       "    </tr>\n",
       "  </tbody>\n",
       "</table>\n",
       "<p>20834 rows × 5 columns</p>\n",
       "</div>"
      ],
      "text/plain": [
       "       1.0  2.0  3.0  4.0  6.0\n",
       "0        0    1    0    0    0\n",
       "1        0    1    0    0    0\n",
       "2        0    1    0    0    0\n",
       "3        0    1    0    0    0\n",
       "4        0    1    0    0    0\n",
       "...    ...  ...  ...  ...  ...\n",
       "20829    0    0    0    1    0\n",
       "20830    0    0    0    1    0\n",
       "20831    0    0    0    1    0\n",
       "20832    0    0    0    1    0\n",
       "20833    0    0    0    1    0\n",
       "\n",
       "[20834 rows x 5 columns]"
      ]
     },
     "execution_count": 148,
     "metadata": {},
     "output_type": "execute_result"
    }
   ],
   "source": [
    "y_one_hot"
   ]
  },
  {
   "cell_type": "code",
   "execution_count": 243,
   "metadata": {},
   "outputs": [],
   "source": [
    "a = [2,3,4,5,6,1]"
   ]
  },
  {
   "cell_type": "code",
   "execution_count": 247,
   "metadata": {},
   "outputs": [],
   "source": [
    "b = [8,2,7,9,2,1]"
   ]
  },
  {
   "cell_type": "code",
   "execution_count": 248,
   "metadata": {},
   "outputs": [],
   "source": [
    "b_ = shuffle_along_axis(np.array(b),0)"
   ]
  },
  {
   "cell_type": "code",
   "execution_count": 240,
   "metadata": {},
   "outputs": [],
   "source": [
    "data_shuffled= shuffle_along_axis(data,0)"
   ]
  },
  {
   "cell_type": "code",
   "execution_count": 241,
   "metadata": {},
   "outputs": [
    {
     "data": {
      "text/plain": [
       "(41668, 200, 19)"
      ]
     },
     "execution_count": 241,
     "metadata": {},
     "output_type": "execute_result"
    }
   ],
   "source": [
    "data_shuffled.shape"
   ]
  },
  {
   "cell_type": "code",
   "execution_count": 238,
   "metadata": {},
   "outputs": [],
   "source": [
    "data = np.concatenate((X, X_scaled_), axis = 0)"
   ]
  },
  {
   "cell_type": "code",
   "execution_count": 239,
   "metadata": {},
   "outputs": [
    {
     "data": {
      "text/plain": [
       "(41668, 200, 19)"
      ]
     },
     "execution_count": 239,
     "metadata": {},
     "output_type": "execute_result"
    }
   ],
   "source": [
    "data.shape"
   ]
  },
  {
   "cell_type": "code",
   "execution_count": 237,
   "metadata": {},
   "outputs": [
    {
     "data": {
      "text/plain": [
       "(20834, 200, 19)"
      ]
     },
     "execution_count": 237,
     "metadata": {},
     "output_type": "execute_result"
    }
   ],
   "source": [
    "X_scaled_.shape"
   ]
  },
  {
   "cell_type": "code",
   "execution_count": 151,
   "metadata": {},
   "outputs": [],
   "source": [
    "y_= (y_one_hot.values)"
   ]
  },
  {
   "cell_type": "code",
   "execution_count": 158,
   "metadata": {},
   "outputs": [
    {
     "data": {
      "text/plain": [
       "2.0"
      ]
     },
     "execution_count": 158,
     "metadata": {},
     "output_type": "execute_result"
    }
   ],
   "source": [
    "y[135]"
   ]
  },
  {
   "cell_type": "code",
   "execution_count": 159,
   "metadata": {},
   "outputs": [
    {
     "data": {
      "text/plain": [
       "array([0, 1, 0, 0, 0], dtype=uint8)"
      ]
     },
     "execution_count": 159,
     "metadata": {},
     "output_type": "execute_result"
    }
   ],
   "source": [
    "y_[135]"
   ]
  },
  {
   "cell_type": "code",
   "execution_count": 161,
   "metadata": {},
   "outputs": [
    {
     "data": {
      "text/plain": [
       "(20834, 5)"
      ]
     },
     "execution_count": 161,
     "metadata": {},
     "output_type": "execute_result"
    }
   ],
   "source": [
    "y_.shape"
   ]
  },
  {
   "cell_type": "code",
   "execution_count": 169,
   "metadata": {},
   "outputs": [],
   "source": [
    "seed = 10\n",
    "y_shuffle = [np.random.shuffle(a) for a in y_]"
   ]
  },
  {
   "cell_type": "code",
   "execution_count": 171,
   "metadata": {},
   "outputs": [
    {
     "data": {
      "text/plain": [
       "20834"
      ]
     },
     "execution_count": 171,
     "metadata": {},
     "output_type": "execute_result"
    }
   ],
   "source": [
    "len(y_shuffle)"
   ]
  },
  {
   "cell_type": "markdown",
   "metadata": {},
   "source": [
    "# Model"
   ]
  },
  {
   "cell_type": "code",
   "execution_count": 286,
   "metadata": {},
   "outputs": [],
   "source": [
    "input_ = Input(shape = (200,19))\n",
    "x = LSTM(200, return_sequences=True)(input_)\n",
    "x = Dropout(0.3)(x)\n",
    "x = LSTM(200, return_sequences= True)(x)\n",
    "x = LSTM(100)(x)\n",
    "x = Dropout(0.2)(x)\n",
    "x = Dense(units = 100, activation='relu')(x)\n",
    "output = Dense(8,  activation='softmax')(x)"
   ]
  },
  {
   "cell_type": "code",
   "execution_count": 287,
   "metadata": {},
   "outputs": [],
   "source": [
    "Stacked_LSTM_model = Model(input_, output)"
   ]
  },
  {
   "cell_type": "code",
   "execution_count": 283,
   "metadata": {},
   "outputs": [
    {
     "name": "stdout",
     "output_type": "stream",
     "text": [
      "Model: \"model_5\"\n",
      "_________________________________________________________________\n",
      "Layer (type)                 Output Shape              Param #   \n",
      "=================================================================\n",
      "input_8 (InputLayer)         (None, 200, 19)           0         \n",
      "_________________________________________________________________\n",
      "lstm_22 (LSTM)               (None, 200, 200)          176000    \n",
      "_________________________________________________________________\n",
      "dropout_9 (Dropout)          (None, 200, 200)          0         \n",
      "_________________________________________________________________\n",
      "lstm_23 (LSTM)               (None, 200, 200)          320800    \n",
      "_________________________________________________________________\n",
      "lstm_24 (LSTM)               (None, 100)               120400    \n",
      "_________________________________________________________________\n",
      "dropout_10 (Dropout)         (None, 100)               0         \n",
      "_________________________________________________________________\n",
      "dense_11 (Dense)             (None, 100)               10100     \n",
      "_________________________________________________________________\n",
      "dense_12 (Dense)             (None, 8)                 808       \n",
      "=================================================================\n",
      "Total params: 628,108\n",
      "Trainable params: 628,108\n",
      "Non-trainable params: 0\n",
      "_________________________________________________________________\n"
     ]
    }
   ],
   "source": [
    "Stacked_LSTM_model.summary()"
   ]
  },
  {
   "cell_type": "code",
   "execution_count": 268,
   "metadata": {},
   "outputs": [],
   "source": [
    "from keras.utils import plot_model"
   ]
  },
  {
   "cell_type": "code",
   "execution_count": null,
   "metadata": {},
   "outputs": [],
   "source": []
  },
  {
   "cell_type": "code",
   "execution_count": null,
   "metadata": {},
   "outputs": [],
   "source": []
  },
  {
   "cell_type": "code",
   "execution_count": null,
   "metadata": {},
   "outputs": [],
   "source": []
  },
  {
   "cell_type": "code",
   "execution_count": null,
   "metadata": {},
   "outputs": [],
   "source": []
  },
  {
   "cell_type": "code",
   "execution_count": null,
   "metadata": {},
   "outputs": [],
   "source": []
  },
  {
   "cell_type": "code",
   "execution_count": null,
   "metadata": {},
   "outputs": [],
   "source": []
  },
  {
   "cell_type": "code",
   "execution_count": null,
   "metadata": {},
   "outputs": [],
   "source": []
  }
 ],
 "metadata": {
  "kernelspec": {
   "display_name": "Python 3",
   "language": "python",
   "name": "python3"
  },
  "language_info": {
   "codemirror_mode": {
    "name": "ipython",
    "version": 3
   },
   "file_extension": ".py",
   "mimetype": "text/x-python",
   "name": "python",
   "nbconvert_exporter": "python",
   "pygments_lexer": "ipython3",
   "version": "3.7.4"
  }
 },
 "nbformat": 4,
 "nbformat_minor": 2
}
